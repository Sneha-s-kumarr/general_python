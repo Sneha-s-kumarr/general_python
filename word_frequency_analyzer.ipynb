{
  "nbformat": 4,
  "nbformat_minor": 0,
  "metadata": {
    "colab": {
      "provenance": [],
      "authorship_tag": "ABX9TyMKqtvBIeqhVYM8LFJokcbA",
      "include_colab_link": true
    },
    "kernelspec": {
      "name": "python3",
      "display_name": "Python 3"
    },
    "language_info": {
      "name": "python"
    }
  },
  "cells": [
    {
      "cell_type": "markdown",
      "metadata": {
        "id": "view-in-github",
        "colab_type": "text"
      },
      "source": [
        "<a href=\"https://colab.research.google.com/github/Sneha-s-kumarr/general_python/blob/main/word_frequency_analyzer.ipynb\" target=\"_parent\"><img src=\"https://colab.research.google.com/assets/colab-badge.svg\" alt=\"Open In Colab\"/></a>"
      ]
    },
    {
      "cell_type": "markdown",
      "source": [
        "#Word Frequency Analyzer by removing Stopwords\n"
      ],
      "metadata": {
        "id": "Cw9rswLyZ_qj"
      }
    },
    {
      "cell_type": "code",
      "execution_count": 23,
      "metadata": {
        "colab": {
          "base_uri": "https://localhost:8080/"
        },
        "id": "AXdtc5myUIDy",
        "outputId": "e873d2e8-5a4a-4bdf-bde9-b38cb1b1db29"
      },
      "outputs": [
        {
          "output_type": "stream",
          "name": "stderr",
          "text": [
            "[nltk_data] Downloading package stopwords to /root/nltk_data...\n",
            "[nltk_data]   Package stopwords is already up-to-date!\n"
          ]
        },
        {
          "output_type": "stream",
          "name": "stdout",
          "text": [
            "Enter a paragraph (or leave it empty to finish): ooo pp\n",
            "Enter a paragraph (or leave it empty to finish): pp\n",
            "Enter a paragraph (or leave it empty to finish): \n",
            "{'ooo': 1, 'pp': 2}\n",
            "'Most commonly used words in ascending order:'\n",
            "['pp', 'ooo']\n"
          ]
        }
      ],
      "source": [
        "from collections import Counter\n",
        "import re\n",
        "import nltk\n",
        "import pprint\n",
        "from IPython.display import HTML\n",
        "\n",
        "# Download NLTK stopwords (you only need to do this once)\n",
        "nltk.download('stopwords')\n",
        "\n",
        "from nltk.corpus import stopwords\n",
        "\n",
        "# Initialize an empty list to store the paragraphs\n",
        "paragraphs = []\n",
        "\n",
        "# Continue adding paragraphs until an empty one is entered\n",
        "while True:\n",
        "    paragraph = input(\"Enter a paragraph (or leave it empty to finish): \")\n",
        "    if not paragraph:\n",
        "        break\n",
        "    paragraphs.append(paragraph)\n",
        "\n",
        "# Combine paragraphs into a single text\n",
        "text = \" \".join(paragraphs)\n",
        "\n",
        "# Tokenize the text into words (you can customize the regex pattern)\n",
        "words = re.findall(r'\\w+', text.lower())\n",
        "\n",
        "# Get the English stopwords\n",
        "stop_words = set(stopwords.words('english'))\n",
        "\n",
        "# Remove stopwords from the list of words\n",
        "filtered_words = [word for word in words if word not in stop_words]\n",
        "\n",
        "# Count word frequencies using Counter\n",
        "word_counts = Counter(filtered_words)\n",
        "\n",
        "# in case of reference\n",
        "# print(dict(word_counts))\n",
        "\n",
        "pprint.pprint(\"Most commonly used words in ascending order:\")\n",
        "pprint.pprint([key for key, value in sorted(dict(word_counts).items(), key=lambda x: x[1],  reverse=True)])\n",
        "\n"
      ]
    },
    {
      "cell_type": "code",
      "source": [
        "# Your dictionary\n",
        "data_dict = {'ooo': 2, 'pp': 3}\n",
        "\n",
        "# Get the keys sorted by values in ascending order\n",
        "sorted_keys = [key for key, value in sorted(data_dict.items(), key=lambda x: x[1], reverse=True)]\n",
        "\n",
        "# Print the sorted keys list\n",
        "print(sorted_keys)\n"
      ],
      "metadata": {
        "colab": {
          "base_uri": "https://localhost:8080/"
        },
        "id": "rthPjumtUpuZ",
        "outputId": "1e54994a-9342-402f-9708-a4c6ac0e700f"
      },
      "execution_count": 22,
      "outputs": [
        {
          "output_type": "stream",
          "name": "stdout",
          "text": [
            "['ooo', 'pp']\n"
          ]
        }
      ]
    },
    {
      "cell_type": "code",
      "source": [],
      "metadata": {
        "id": "_X4Tf0xOWmsB"
      },
      "execution_count": null,
      "outputs": []
    }
  ]
}