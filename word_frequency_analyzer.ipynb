{
  "nbformat": 4,
  "nbformat_minor": 0,
  "metadata": {
    "colab": {
      "provenance": [],
      "authorship_tag": "ABX9TyMDOFpYXYEwOO3LNtvRUrTJ",
      "include_colab_link": true
    },
    "kernelspec": {
      "name": "python3",
      "display_name": "Python 3"
    },
    "language_info": {
      "name": "python"
    }
  },
  "cells": [
    {
      "cell_type": "markdown",
      "metadata": {
        "id": "view-in-github",
        "colab_type": "text"
      },
      "source": [
        "<a href=\"https://colab.research.google.com/github/Sneha-s-kumarr/general_python/blob/main/word_frequency_analyzer.ipynb\" target=\"_parent\"><img src=\"https://colab.research.google.com/assets/colab-badge.svg\" alt=\"Open In Colab\"/></a>"
      ]
    },
    {
      "cell_type": "markdown",
      "source": [
        "#Word Frequency Analyzer by removing Stopwords\n"
      ],
      "metadata": {
        "id": "Cw9rswLyZ_qj"
      }
    },
    {
      "cell_type": "code",
      "execution_count": 24,
      "metadata": {
        "colab": {
          "base_uri": "https://localhost:8080/"
        },
        "id": "AXdtc5myUIDy",
        "outputId": "7b63e9e9-626e-4b4c-ba9c-a5e1bbd2d1f6"
      },
      "outputs": [
        {
          "output_type": "stream",
          "name": "stderr",
          "text": [
            "[nltk_data] Downloading package stopwords to /root/nltk_data...\n",
            "[nltk_data]   Package stopwords is already up-to-date!\n"
          ]
        },
        {
          "output_type": "stream",
          "name": "stdout",
          "text": [
            "Enter a paragraph (or leave it empty to finish): Lorem ipsum dolor sit amet, consectetur adipiscing elit, sed do eiusmod tempor incididunt ut labore et dolore magna aliqua. Ut enim ad minim veniam, quis nostrud exercitation ullamco laboris nisi ut aliquip ex ea commodo consequat. Duis aute irure dolor in reprehenderit in voluptate velit esse cillum dolore eu fugiat nulla pariatur. Excepteur sint occaecat cupidatat non proident, sunt in culpa qui officia deserunt mollit anim id est laborum.\n",
            "Enter a paragraph (or leave it empty to finish): Lorem ipsum dolor sit amet, consectetur adipiscing elit, sed do eiusmod tempor incididunt ut labore et dolore magna aliqua. Ut enim ad minim veniam, quis nostrud exercitation ullamco laboris nisi ut aliquip ex ea commodo consequat. Duis aute irure dolor in reprehenderit in voluptate velit esse cillum dolore eu fugiat nulla pariatur. Excepteur sint occaecat cupidatat non proident, sunt in culpa qui officia deserunt mollit anim id est laborum.\n",
            "Enter a paragraph (or leave it empty to finish): \n",
            "'Most commonly used words in ascending order:'\n",
            "['ut',\n",
            " 'dolor',\n",
            " 'dolore',\n",
            " 'lorem',\n",
            " 'ipsum',\n",
            " 'sit',\n",
            " 'amet',\n",
            " 'consectetur',\n",
            " 'adipiscing',\n",
            " 'elit',\n",
            " 'sed',\n",
            " 'eiusmod',\n",
            " 'tempor',\n",
            " 'incididunt',\n",
            " 'labore',\n",
            " 'et',\n",
            " 'magna',\n",
            " 'aliqua',\n",
            " 'enim',\n",
            " 'ad',\n",
            " 'minim',\n",
            " 'veniam',\n",
            " 'quis',\n",
            " 'nostrud',\n",
            " 'exercitation',\n",
            " 'ullamco',\n",
            " 'laboris',\n",
            " 'nisi',\n",
            " 'aliquip',\n",
            " 'ex',\n",
            " 'ea',\n",
            " 'commodo',\n",
            " 'consequat',\n",
            " 'duis',\n",
            " 'aute',\n",
            " 'irure',\n",
            " 'reprehenderit',\n",
            " 'voluptate',\n",
            " 'velit',\n",
            " 'esse',\n",
            " 'cillum',\n",
            " 'eu',\n",
            " 'fugiat',\n",
            " 'nulla',\n",
            " 'pariatur',\n",
            " 'excepteur',\n",
            " 'sint',\n",
            " 'occaecat',\n",
            " 'cupidatat',\n",
            " 'non',\n",
            " 'proident',\n",
            " 'sunt',\n",
            " 'culpa',\n",
            " 'qui',\n",
            " 'officia',\n",
            " 'deserunt',\n",
            " 'mollit',\n",
            " 'anim',\n",
            " 'id',\n",
            " 'est',\n",
            " 'laborum']\n"
          ]
        }
      ],
      "source": [
        "from collections import Counter\n",
        "import re\n",
        "import nltk\n",
        "import pprint\n",
        "from IPython.display import HTML\n",
        "\n",
        "# Download NLTK stopwords (you only need to do this once)\n",
        "nltk.download('stopwords')\n",
        "\n",
        "from nltk.corpus import stopwords\n",
        "\n",
        "# Initialize an empty list to store the paragraphs\n",
        "paragraphs = []\n",
        "\n",
        "# Continue adding paragraphs until an empty one is entered\n",
        "while True:\n",
        "    paragraph = input(\"Enter a paragraph (or leave it empty to finish): \")\n",
        "    if not paragraph:\n",
        "        break\n",
        "    paragraphs.append(paragraph)\n",
        "\n",
        "# Combine paragraphs into a single text\n",
        "text = \" \".join(paragraphs)\n",
        "\n",
        "# Tokenize the text into words (you can customize the regex pattern)\n",
        "words = re.findall(r'\\w+', text.lower())\n",
        "\n",
        "# Get the English stopwords\n",
        "stop_words = set(stopwords.words('english'))\n",
        "\n",
        "# Remove stopwords from the list of words\n",
        "filtered_words = [word for word in words if word not in stop_words]\n",
        "\n",
        "# Count word frequencies using Counter\n",
        "word_counts = Counter(filtered_words)\n",
        "\n",
        "# in case of reference\n",
        "# print(dict(word_counts))\n",
        "\n",
        "pprint.pprint(\"Most commonly used words in ascending order:\")\n",
        "pprint.pprint([key for key, value in sorted(dict(word_counts).items(), key=lambda x: x[1],  reverse=True)])\n",
        "\n"
      ]
    },
    {
      "cell_type": "code",
      "source": [],
      "metadata": {
        "id": "_X4Tf0xOWmsB"
      },
      "execution_count": null,
      "outputs": []
    }
  ]
}