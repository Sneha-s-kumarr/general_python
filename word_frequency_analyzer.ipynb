{
  "nbformat": 4,
  "nbformat_minor": 0,
  "metadata": {
    "colab": {
      "provenance": [],
      "authorship_tag": "ABX9TyMDOFpYXYEwOO3LNtvRUrTJ",
      "include_colab_link": true
    },
    "kernelspec": {
      "name": "python3",
      "display_name": "Python 3"
    },
    "language_info": {
      "name": "python"
    }
  },
  "cells": [
    {
      "cell_type": "markdown",
      "metadata": {
        "id": "view-in-github",
        "colab_type": "text"
      },
      "source": [
        "<a href=\"https://colab.research.google.com/github/Sneha-s-kumarr/general_python/blob/main/word_frequency_analyzer.ipynb\" target=\"_parent\"><img src=\"https://colab.research.google.com/assets/colab-badge.svg\" alt=\"Open In Colab\"/></a>"
      ]
    },
    {
      "cell_type": "markdown",
      "source": [
        "#Word Frequency Analyzer by removing Stopwords\n"
      ],
      "metadata": {
        "id": "Cw9rswLyZ_qj"
      }
    },
    {
      "cell_type": "code",
      "execution_count": 25,
      "metadata": {
        "colab": {
          "base_uri": "https://localhost:8080/"
        },
        "id": "AXdtc5myUIDy",
        "outputId": "5e9d0435-5279-4596-e574-06041c3bbaf3"
      },
      "outputs": [
        {
          "output_type": "stream",
          "name": "stderr",
          "text": [
            "[nltk_data] Downloading package stopwords to /root/nltk_data...\n",
            "[nltk_data]   Package stopwords is already up-to-date!\n"
          ]
        },
        {
          "output_type": "stream",
          "name": "stdout",
          "text": [
            "Enter a paragraph (or leave it empty to finish): The weather today is quite pleasant with clear skies and a gentle breeze. It's the perfect day for a leisurely stroll in the park, and maybe even a picnic with friends. The sun is shining brightly, and the temperature is just right, making it an ideal day to enjoy the outdoors.\"\n",
            "Enter a paragraph (or leave it empty to finish): Today's weather is rather delightful, featuring blue skies and a mild breeze. It's an excellent opportunity for a relaxed walk in the garden or perhaps a picnic with your companions. The sun shines brilliantly, and the temperature is just perfect, making it an ideal day for outdoor activities\n",
            "Enter a paragraph (or leave it empty to finish): \n",
            "'Most commonly used words in ascending order:'\n",
            "['day',\n",
            " 'weather',\n",
            " 'today',\n",
            " 'skies',\n",
            " 'breeze',\n",
            " 'perfect',\n",
            " 'picnic',\n",
            " 'sun',\n",
            " 'temperature',\n",
            " 'making',\n",
            " 'ideal',\n",
            " 'quite',\n",
            " 'pleasant',\n",
            " 'clear',\n",
            " 'gentle',\n",
            " 'leisurely',\n",
            " 'stroll',\n",
            " 'park',\n",
            " 'maybe',\n",
            " 'even',\n",
            " 'friends',\n",
            " 'shining',\n",
            " 'brightly',\n",
            " 'right',\n",
            " 'enjoy',\n",
            " 'outdoors',\n",
            " 'rather',\n",
            " 'delightful',\n",
            " 'featuring',\n",
            " 'blue',\n",
            " 'mild',\n",
            " 'excellent',\n",
            " 'opportunity',\n",
            " 'relaxed',\n",
            " 'walk',\n",
            " 'garden',\n",
            " 'perhaps',\n",
            " 'companions',\n",
            " 'shines',\n",
            " 'brilliantly',\n",
            " 'outdoor',\n",
            " 'activities']\n"
          ]
        }
      ],
      "source": [
        "from collections import Counter\n",
        "import re\n",
        "import nltk\n",
        "import pprint\n",
        "from IPython.display import HTML\n",
        "\n",
        "# Download NLTK stopwords (you only need to do this once)\n",
        "nltk.download('stopwords')\n",
        "\n",
        "from nltk.corpus import stopwords\n",
        "\n",
        "# Initialize an empty list to store the paragraphs\n",
        "paragraphs = []\n",
        "\n",
        "# Continue adding paragraphs until an empty one is entered\n",
        "while True:\n",
        "    paragraph = input(\"Enter a paragraph (or leave it empty to finish): \")\n",
        "    if not paragraph:\n",
        "        break\n",
        "    paragraphs.append(paragraph)\n",
        "\n",
        "# Combine paragraphs into a single text\n",
        "text = \" \".join(paragraphs)\n",
        "\n",
        "# Tokenize the text into words (you can customize the regex pattern)\n",
        "words = re.findall(r'\\w+', text.lower())\n",
        "\n",
        "# Get the English stopwords\n",
        "stop_words = set(stopwords.words('english'))\n",
        "\n",
        "# Remove stopwords from the list of words\n",
        "filtered_words = [word for word in words if word not in stop_words]\n",
        "\n",
        "# Count word frequencies using Counter\n",
        "word_counts = Counter(filtered_words)\n",
        "\n",
        "# in case of reference\n",
        "# print(dict(word_counts))\n",
        "\n",
        "pprint.pprint(\"Most commonly used words in ascending order:\")\n",
        "pprint.pprint([key for key, value in sorted(dict(word_counts).items(), key=lambda x: x[1],  reverse=True)])\n",
        "\n"
      ]
    },
    {
      "cell_type": "code",
      "source": [],
      "metadata": {
        "id": "_X4Tf0xOWmsB"
      },
      "execution_count": null,
      "outputs": []
    }
  ]
}