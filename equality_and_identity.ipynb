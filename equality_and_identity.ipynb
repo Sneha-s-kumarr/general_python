{
  "nbformat": 4,
  "nbformat_minor": 0,
  "metadata": {
    "colab": {
      "provenance": [],
      "authorship_tag": "ABX9TyPsISR2dLKgkOuokKGuXOw1",
      "include_colab_link": true
    },
    "kernelspec": {
      "name": "python3",
      "display_name": "Python 3"
    },
    "language_info": {
      "name": "python"
    }
  },
  "cells": [
    {
      "cell_type": "markdown",
      "metadata": {
        "id": "view-in-github",
        "colab_type": "text"
      },
      "source": [
        "<a href=\"https://colab.research.google.com/github/Sneha-s-kumarr/general_python/blob/main/equality_and_identity.ipynb\" target=\"_parent\"><img src=\"https://colab.research.google.com/assets/colab-badge.svg\" alt=\"Open In Colab\"/></a>"
      ]
    },
    {
      "cell_type": "markdown",
      "source": [
        "Difference between equality and identity\n"
      ],
      "metadata": {
        "id": "-QWQ3iqpIFN_"
      }
    },
    {
      "cell_type": "markdown",
      "source": [
        "check for eqaulity"
      ],
      "metadata": {
        "id": "Tq0krsdEzEGs"
      }
    },
    {
      "cell_type": "code",
      "source": [
        "a = [1, 2, 3]\n",
        "b = [1, 2, 3]\n",
        "\n",
        "print(\"check for eqaulity-\",f\"{a==b} which means a and b are equal\")\n"
      ],
      "metadata": {
        "colab": {
          "base_uri": "https://localhost:8080/"
        },
        "id": "d7wMD-12ITDj",
        "outputId": "2dd2f34e-9c99-43e8-f4a6-444a38f0d378"
      },
      "execution_count": 2,
      "outputs": [
        {
          "output_type": "stream",
          "name": "stdout",
          "text": [
            "check for eqaulity- True which means a and b are equal\n"
          ]
        }
      ]
    },
    {
      "cell_type": "markdown",
      "source": [
        "check for identity"
      ],
      "metadata": {
        "id": "eFVqzNsLzIfZ"
      }
    },
    {
      "cell_type": "code",
      "source": [
        "print(\"id of a\",id(a))\n",
        "print(\"id of b\",id(b))\n",
        "print(\"check for identity-\",f\"{a is b} which means a and b are not identical\")\n"
      ],
      "metadata": {
        "colab": {
          "base_uri": "https://localhost:8080/"
        },
        "id": "KEZjqz0HIXsR",
        "outputId": "dfce4dac-6fe7-4c9c-d189-b8ecc29ad7ee"
      },
      "execution_count": 3,
      "outputs": [
        {
          "output_type": "stream",
          "name": "stdout",
          "text": [
            "id of a 140499937265280\n",
            "id of b 140499928429376\n",
            "check for identity- False which means a and b are not identical\n"
          ]
        }
      ]
    },
    {
      "cell_type": "markdown",
      "source": [
        "check for eqaulity and identity"
      ],
      "metadata": {
        "id": "s6klour3zJ8I"
      }
    },
    {
      "cell_type": "code",
      "source": [
        "c=a\n",
        "print(\"check for eqaulity-\",f\"{a==c} which means a and b are equal\")\n",
        "print(\"check for identity-\",f\"{a is c} which means a and b are identical\")"
      ],
      "metadata": {
        "colab": {
          "base_uri": "https://localhost:8080/"
        },
        "id": "yJMvaTrCJLZe",
        "outputId": "2295225d-6b63-4a0d-8ae6-080497980998"
      },
      "execution_count": null,
      "outputs": [
        {
          "output_type": "stream",
          "name": "stdout",
          "text": [
            "check for eqaulity- True which means a and b are equal\n",
            "check for identity- True which means a and b are identical\n"
          ]
        }
      ]
    },
    {
      "cell_type": "code",
      "source": [
        "# By slicing we are making a copy of a \n",
        "d=a[:]\n",
        "print(\"check for eqaulity-\",f\"{a==d} which means a and b are equal\")\n",
        "print(\"check for identity-\",f\"{a is d} which means a and b are identical\")"
      ],
      "metadata": {
        "colab": {
          "base_uri": "https://localhost:8080/"
        },
        "id": "oAZmQqhlzCp2",
        "outputId": "94196ae6-18e0-4fd7-9c67-e1392d5448b4"
      },
      "execution_count": 6,
      "outputs": [
        {
          "output_type": "stream",
          "name": "stdout",
          "text": [
            "check for eqaulity- True which means a and b are equal\n",
            "check for identity- False which means a and b are identical\n"
          ]
        }
      ]
    },
    {
      "cell_type": "markdown",
      "source": [
        "# Conclusion\n",
        "\n",
        "All Identical variables are equal but not all Equal variables are identical"
      ],
      "metadata": {
        "id": "FA-Nr7e-LGmX"
      }
    },
    {
      "cell_type": "code",
      "source": [],
      "metadata": {
        "id": "wMtL_gIcLKsg"
      },
      "execution_count": null,
      "outputs": []
    },
    {
      "cell_type": "code",
      "source": [],
      "metadata": {
        "id": "XQA__j_3W4Yf"
      },
      "execution_count": null,
      "outputs": []
    }
  ]
}