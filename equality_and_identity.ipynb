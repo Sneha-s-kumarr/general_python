{
  "nbformat": 4,
  "nbformat_minor": 0,
  "metadata": {
    "colab": {
      "provenance": [],
      "authorship_tag": "ABX9TyMZz5EEiO4PyUuYxk9r2CJ0",
      "include_colab_link": true
    },
    "kernelspec": {
      "name": "python3",
      "display_name": "Python 3"
    },
    "language_info": {
      "name": "python"
    }
  },
  "cells": [
    {
      "cell_type": "markdown",
      "metadata": {
        "id": "view-in-github",
        "colab_type": "text"
      },
      "source": [
        "<a href=\"https://colab.research.google.com/github/Sneha-s-kumarr/general_python/blob/main/equality_and_identity.ipynb\" target=\"_parent\"><img src=\"https://colab.research.google.com/assets/colab-badge.svg\" alt=\"Open In Colab\"/></a>"
      ]
    },
    {
      "cell_type": "markdown",
      "source": [
        "Difference between equality and identity\n"
      ],
      "metadata": {
        "id": "-QWQ3iqpIFN_"
      }
    },
    {
      "cell_type": "code",
      "source": [
        "a = [1, 2, 3]\n",
        "b = [1, 2, 3]\n",
        "\n",
        "print(\"check for eqaulity-\",f\"{a==b} which means a and b are equal\")\n"
      ],
      "metadata": {
        "colab": {
          "base_uri": "https://localhost:8080/"
        },
        "id": "d7wMD-12ITDj",
        "outputId": "5468d3ae-239c-479d-bd6d-27a19c963757"
      },
      "execution_count": 12,
      "outputs": [
        {
          "output_type": "stream",
          "name": "stdout",
          "text": [
            "check for eqaulity- True which means a and b are equal\n"
          ]
        }
      ]
    },
    {
      "cell_type": "code",
      "source": [
        "id(a)\n",
        "id(b)\n",
        "print(\"check for identity-\",f\"{a is b} which means a and b are not identical\")\n"
      ],
      "metadata": {
        "colab": {
          "base_uri": "https://localhost:8080/"
        },
        "id": "KEZjqz0HIXsR",
        "outputId": "85949e6a-f2cf-4455-a189-99916cc931c3"
      },
      "execution_count": 11,
      "outputs": [
        {
          "output_type": "stream",
          "name": "stdout",
          "text": [
            "check for identity- False which means a and b are not identical\n"
          ]
        }
      ]
    },
    {
      "cell_type": "code",
      "source": [
        "c=a\n",
        "print(\"check for eqaulity-\",f\"{a==c} which means a and b are equal\")\n",
        "print(\"check for identity-\",f\"{a is c} which means a and b are identical\")"
      ],
      "metadata": {
        "colab": {
          "base_uri": "https://localhost:8080/"
        },
        "id": "yJMvaTrCJLZe",
        "outputId": "2295225d-6b63-4a0d-8ae6-080497980998"
      },
      "execution_count": 21,
      "outputs": [
        {
          "output_type": "stream",
          "name": "stdout",
          "text": [
            "check for eqaulity- True which means a and b are equal\n",
            "check for identity- True which means a and b are identical\n"
          ]
        }
      ]
    },
    {
      "cell_type": "markdown",
      "source": [
        "# Conclusion\n",
        "\n",
        "All Identical variables are equal but not all Equal variables are identical"
      ],
      "metadata": {
        "id": "FA-Nr7e-LGmX"
      }
    },
    {
      "cell_type": "code",
      "source": [],
      "metadata": {
        "id": "wMtL_gIcLKsg"
      },
      "execution_count": null,
      "outputs": []
    },
    {
      "cell_type": "code",
      "source": [],
      "metadata": {
        "id": "XQA__j_3W4Yf"
      },
      "execution_count": null,
      "outputs": []
    }
  ]
}